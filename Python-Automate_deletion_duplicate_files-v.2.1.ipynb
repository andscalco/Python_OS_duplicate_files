{
 "cells": [
  {
   "cell_type": "markdown",
   "metadata": {},
   "source": [
    "# Python + OS Package: List and remove files\n",
    "## A short script to list and delete duplicated files after Google Drive synchronization"
   ]
  },
  {
   "cell_type": "code",
   "execution_count": 7,
   "metadata": {
    "scrolled": true
   },
   "outputs": [
    {
     "data": {
      "text/plain": [
       "'1473 files in C:\\\\Users\\\\s11as6\\\\Google Drive\\\\Research Library'"
      ]
     },
     "execution_count": 7,
     "metadata": {},
     "output_type": "execute_result"
    }
   ],
   "source": [
    "# Import \"os\" package (full doc at https://docs.python.org/3/library/os.html)\n",
    "import os\n",
    "# Move to test directory\n",
    "#os.chdir('C:\\\\Users\\\\s11as6\\\\Documents\\\\test_folder')\n",
    "# Double-check we moved in the wanted directory\n",
    "# os.getcwd()\n",
    "# Move to real directory\n",
    "os.chdir(\"C:\\\\Users\\\\s11as6\\\\Google Drive\\\\Research Library\") #2,661 files before - 1,473 after\n",
    "# Obtain the list of file and store in a var for later\n",
    "file_list = os.listdir('.')\n",
    "# Print number of files in the directory\n",
    "str(len(file_list)) + \" files in \" + str(os.getcwd())"
   ]
  },
  {
   "cell_type": "code",
   "execution_count": 8,
   "metadata": {},
   "outputs": [
    {
     "data": {
      "text/plain": [
       "'Found 0 potential duplicates'"
      ]
     },
     "execution_count": 8,
     "metadata": {},
     "output_type": "execute_result"
    }
   ],
   "source": [
    "# Arrange an empty list that will contain the filenames of duplicated files\n",
    "duplicated_list = [] \n",
    "\n",
    "# List suspect duplicated files (they have a length of 51 chars for some reasons, probably truncated by the OS)\n",
    "potential_duplicate = [filename for filename in file_list if len(filename) == 51]\n",
    "\"Found \" + str(len(potential_duplicate)) + \" potential duplicates\""
   ]
  },
  {
   "cell_type": "code",
   "execution_count": 9,
   "metadata": {},
   "outputs": [
    {
     "data": {
      "text/plain": [
       "[]"
      ]
     },
     "execution_count": 9,
     "metadata": {},
     "output_type": "execute_result"
    }
   ],
   "source": [
    "# See potential duplicates\n",
    "potential_duplicate"
   ]
  },
  {
   "cell_type": "code",
   "execution_count": 169,
   "metadata": {},
   "outputs": [],
   "source": [
    "# Remove duplicated files\n",
    "for duplo in potential_duplicate:\n",
    "    os.remove(duplo)"
   ]
  },
  {
   "cell_type": "code",
   "execution_count": null,
   "metadata": {},
   "outputs": [],
   "source": []
  }
 ],
 "metadata": {
  "kernelspec": {
   "display_name": "Python 3",
   "language": "python",
   "name": "python3"
  },
  "language_info": {
   "codemirror_mode": {
    "name": "ipython",
    "version": 3
   },
   "file_extension": ".py",
   "mimetype": "text/x-python",
   "name": "python",
   "nbconvert_exporter": "python",
   "pygments_lexer": "ipython3",
   "version": "3.7.3"
  }
 },
 "nbformat": 4,
 "nbformat_minor": 2
}
